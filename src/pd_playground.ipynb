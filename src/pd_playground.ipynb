{
 "cells": [
  {
   "cell_type": "code",
   "execution_count": null,
   "id": "363a28ec-8643-4ec8-9027-e05b0f5ad85a",
   "metadata": {},
   "outputs": [],
   "source": [
    "from bicycleparameters.parameter_sets import Meijaard2007ParameterSet\n",
    "import matplotlib as mpl\n",
    "import matplotlib.pyplot as plt\n",
    "import numpy as np\n",
    "from data import bike_with_rider\n",
    "from model import SteerControlModel\n",
    "\n",
    "parameter_set = Meijaard2007ParameterSet(bike_with_rider, True)\n",
    "model = SteerControlModel(parameter_set)"
   ]
  },
  {
   "cell_type": "code",
   "execution_count": null,
   "id": "32ea3f2d-e9ef-4bb3-acc6-5e9091656a61",
   "metadata": {},
   "outputs": [],
   "source": [
    "%matplotlib widget"
   ]
  },
  {
   "cell_type": "code",
   "execution_count": null,
   "id": "bfa2973c-c13a-4325-a8d6-c22a0863713e",
   "metadata": {},
   "outputs": [],
   "source": [
    "from ipywidgets import interact\n",
    "\n",
    "times = np.linspace(0.0, 10.0, num=500)\n",
    "axes = model.plot_mode_simulations(times, v=6.0, kphi=0.0, kphidot=0.0)\n",
    "fig = axes[0, 0].figure\n",
    "fig.set_size_inches(10.0, 6.0)\n",
    "\n",
    "def update_sim(v=6.0, kphi=0.0, kphidot=-50.0, kdelta=0.0, kdeltadot=0.0):\n",
    "    results = model.simulate_modes(times, v=v,\n",
    "                                   kphi=kphi, kphidot=kphidot,\n",
    "                                   kdelta=kdelta, kdeltadot=kdeltadot)\n",
    "    for i, row in enumerate(results):\n",
    "        axes[i, 0].lines[0].set_data(times, results[i, :, 0])\n",
    "        axes[i, 0].lines[1].set_data(times, results[i, :, 1])\n",
    "        axes[i, 0].set_ylim((np.max([-30.0, np.min(results[i, :, :2])]),\n",
    "                             np.min([30.0, np.max(results[i, :, :2])])))\n",
    "        axes[i, 1].lines[0].set_data(times, results[i, :, 2])\n",
    "        axes[i, 1].lines[1].set_data(times, results[i, :, 3])\n",
    "        axes[i, 1].set_ylim((np.max([-30.0, np.min(results[i, :, 2:])]),\n",
    "                             np.min([30.0, np.max(results[i, :, 2:])])))\n",
    "\n",
    "interact(update_sim, v=(0.0, 10.0, 0.2),\n",
    "         kphi=(-100.0, 20.0, 5), kphidot=(-150.0, 20.0, 5),\n",
    "         kdelta=(-50.0, 50.0, 5), kdeltadot=(-50.0, 50.0, 5));"
   ]
  },
  {
   "cell_type": "code",
   "execution_count": null,
   "id": "60406f99-7b38-4c74-a2e8-ecf8adba7c74",
   "metadata": {},
   "outputs": [],
   "source": [
    "speeds = np.array([0.6, 1.0, 1.4, 2.0, 3.0, 3.2, 4.0, 4.8, 6.4, 7, 10])\n",
    "kphis = np.array([-80, -40, -25, -10, -5, -5, -5, -5, -5, -5, -5])\n",
    "kphidots = np.array([-125, -80, -65, -50, -40, -35, -20, -10, -5, -5, -5]) - 5"
   ]
  },
  {
   "cell_type": "code",
   "execution_count": null,
   "id": "cdb7e772-2481-4e1b-aa22-4b838250513b",
   "metadata": {},
   "outputs": [],
   "source": [
    "fig, ax = plt.subplots()\n",
    "ax.plot(speeds, kphis, '.', label='kphi')\n",
    "ax.plot(speeds, kphidots, '.', label='kphidot')\n",
    "ax.legend()"
   ]
  },
  {
   "cell_type": "code",
   "execution_count": null,
   "id": "fe982dfe-a213-4c0e-81c1-d86423ce4698",
   "metadata": {},
   "outputs": [],
   "source": [
    "import scipy.optimize as spo"
   ]
  },
  {
   "cell_type": "code",
   "execution_count": null,
   "id": "626f67b6-92eb-4d5e-a988-e5f2f96c7253",
   "metadata": {},
   "outputs": [],
   "source": [
    "f = lambda x, a, b, c: a*np.exp(b*x) + c\n",
    "kphi_pars, _ = spo.curve_fit(f, speeds, kphis, p0=[-30, -2, -0.1])\n",
    "print(kphi_pars)\n",
    "ax.plot(speeds, f(speeds, *kphi_pars))\n",
    "kphidot_pars, _ = spo.curve_fit(f, speeds, kphidots, p0=[-30, -2, -0.1])\n",
    "ax.plot(speeds, f(speeds, *kphidot_pars))\n",
    "print(kphidot_pars)"
   ]
  },
  {
   "cell_type": "code",
   "execution_count": null,
   "id": "8f4efcc5-b951-44b1-ad82-d61d42d99d05",
   "metadata": {},
   "outputs": [],
   "source": [
    "speeds = np.linspace(0.0, 10.0, num=1000)\n",
    "kphis = f(speeds, *kphi_pars) - 1\n",
    "kphidots = f(speeds, *kphidot_pars)"
   ]
  },
  {
   "cell_type": "code",
   "execution_count": null,
   "id": "ff1b5a76-1087-4715-aead-7c8032fbd6ad",
   "metadata": {},
   "outputs": [],
   "source": [
    "ax = model.plot_eigenvalue_parts(v=speeds, kphi=kphis, kphidot=kphidots)\n",
    "ax = model.plot_eigenvalue_parts(ax=ax, colors=4*['black'], v=speeds)"
   ]
  }
 ],
 "metadata": {
  "kernelspec": {
   "display_name": "Python 3 (ipykernel)",
   "language": "python",
   "name": "python3"
  },
  "language_info": {
   "codemirror_mode": {
    "name": "ipython",
    "version": 3
   },
   "file_extension": ".py",
   "mimetype": "text/x-python",
   "name": "python",
   "nbconvert_exporter": "python",
   "pygments_lexer": "ipython3",
   "version": "3.9.13"
  }
 },
 "nbformat": 4,
 "nbformat_minor": 5
}
